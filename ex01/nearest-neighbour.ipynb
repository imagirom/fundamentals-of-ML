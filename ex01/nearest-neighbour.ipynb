{
 "cells": [
  {
   "cell_type": "markdown",
   "metadata": {},
   "source": [
    "## 2 Nearest Neighbor Classification on Real Data"
   ]
  },
  {
   "cell_type": "markdown",
   "metadata": {},
   "source": [
    "### 2.1 Exploring the Data"
   ]
  },
  {
   "cell_type": "code",
   "execution_count": 15,
   "metadata": {},
   "outputs": [
    {
     "name": "stdout",
     "output_type": "stream",
     "text": [
      "dict_keys(['data', 'target', 'target_names', 'images', 'DESCR'])\n"
     ]
    }
   ],
   "source": [
    "from sklearn.datasets import load_digits\n",
    "import numpy as np\n",
    "import matplotlib.pyplot as plt\n",
    "\n",
    "digits = load_digits ()\n",
    "print(digits.keys())\n",
    "data = digits[\"data\"]\n",
    "images = digits[\"images\"]\n",
    "target = digits[\"target\"]\n",
    "target_names = digits[\"target_names\"]"
   ]
  },
  {
   "cell_type": "code",
   "execution_count": 16,
   "metadata": {},
   "outputs": [
    {
     "name": "stdout",
     "output_type": "stream",
     "text": [
      "float64\n",
      "(1797, 64)\n"
     ]
    }
   ],
   "source": [
    "print(data.dtype)\n",
    "print(data.shape)"
   ]
  },
  {
   "cell_type": "code",
   "execution_count": 27,
   "metadata": {},
   "outputs": [
    {
     "data": {
      "image/png": "[encoded data removed]",
      "text/plain": [
       "<matplotlib.figure.Figure at 0x967ba90>"
      ]
     },
     "metadata": {},
     "output_type": "display_data"
    }
   ],
   "source": [
    "img = images[3]\n",
    "plt.figure()\n",
    "plt.gray()\n",
    "plt.imshow(img, interpolation=\"nearest\")\n",
    "plt.show()"
   ]
  },
  {
   "cell_type": "code",
   "execution_count": 5,
   "metadata": {
    "collapsed": true
   },
   "outputs": [],
   "source": [
    "from sklearn import model_selection\n",
    "\n",
    "X_all = data\n",
    "y_all = target\n",
    "\n",
    "X_train, X_test, y_train, y_test = model_selection.train_test_split(digits.data, digits.target, test_size=0.4, random_state=0)"
   ]
  },
  {
   "cell_type": "markdown",
   "metadata": {},
   "source": [
    "### 2.2 Distance function computation using loops"
   ]
  },
  {
   "cell_type": "code",
   "execution_count": 6,
   "metadata": {
    "collapsed": true
   },
   "outputs": [],
   "source": [
    "def dist_loop(training, test):\n",
    "    N = training.shape[0]\n",
    "    M = test.shape[0]\n",
    "    dists = np.empty((N,M), dtype=np.float32)\n",
    "    \n",
    "    for i in range(N):\n",
    "        for j in range(M):\n",
    "            dists[i,j] = np.linalg.norm(training[i] - test[j])\n",
    "            \n",
    "    return dists"
   ]
  },
  {
   "cell_type": "code",
   "execution_count": 18,
   "metadata": {},
   "outputs": [
    {
     "name": "stdout",
     "output_type": "stream",
     "text": [
      "1 loop, best of 3: 4.36 s per loop\n"
     ]
    }
   ],
   "source": [
    "%timeit dist_loop(X_train, X_test)"
   ]
  },
  {
   "cell_type": "markdown",
   "metadata": {},
   "source": [
    "### 2.3 Distance function computation using vectorization"
   ]
  },
  {
   "cell_type": "code",
   "execution_count": 8,
   "metadata": {
    "collapsed": true
   },
   "outputs": [],
   "source": [
    "def dist_vec(training, test):\n",
    "    return np.linalg.norm(training[:,np.newaxis,:] - test[np.newaxis,:,:], axis=2)"
   ]
  },
  {
   "cell_type": "code",
   "execution_count": 9,
   "metadata": {},
   "outputs": [
    {
     "name": "stdout",
     "output_type": "stream",
     "text": [
      "1 loop, best of 3: 364 ms per loop\n"
     ]
    }
   ],
   "source": [
    "%timeit dist_vec(X_train, X_test)"
   ]
  },
  {
   "cell_type": "markdown",
   "metadata": {},
   "source": [
    "### 2.4 Implement the nearest neighbor classifier"
   ]
  },
  {
   "cell_type": "code",
   "execution_count": 75,
   "metadata": {},
   "outputs": [],
   "source": [
    "from scipy import stats\n",
    "\n",
    "def rule_k_nearest_neighbors(k, training, train_labels, test):\n",
    "    M = test.shape[0]\n",
    "    dists = dist_vec(training, test) #N*M\n",
    "    k_smallest = np.argpartition(dists, k, axis=0)[:k,:] #k*M\n",
    "    shape = k_smallest.shape\n",
    "    labels = train_labels[k_smallest.flatten()].reshape(k,M)\n",
    "    return stats.mode(labels, axis=0)[0]"
   ]
  },
  {
   "cell_type": "code",
   "execution_count": 95,
   "metadata": {},
   "outputs": [
    {
     "name": "stdout",
     "output_type": "stream",
     "text": [
      "0.0\n",
      "0.0\n",
      "0.013888888888888888\n"
     ]
    }
   ],
   "source": [
    "def two_digit_error(i, j, k=1):\n",
    "    pos_train = (y_train == i) | (y_train == j)\n",
    "    X_train_ij = X_train[pos_train]\n",
    "    y_train_ij = y_train[pos_train]\n",
    "    pos_test = (y_test == i) | (y_test == j)\n",
    "    X_test_ij = X_test[pos_test]\n",
    "    y_test_ij = y_test[pos_test]\n",
    "\n",
    "    return np.count_nonzero(rule_k_nearest_neighbors(k, X_train_ij, y_train_ij, X_test_ij) - y_test_ij) / y_test_ij.size\n",
    "\n",
    "print(two_digit_error(1,3))\n",
    "print(two_digit_error(1,7))\n",
    "print(two_digit_error(3,9))"
   ]
  },
  {
   "cell_type": "markdown",
   "metadata": {},
   "source": [
    "### 2.5 Generalize to k-nearest neighbors "
   ]
  },
  {
   "cell_type": "code",
   "execution_count": 99,
   "metadata": {},
   "outputs": [
    {
     "name": "stdout",
     "output_type": "stream",
     "text": [
      "k =  1, error = 0.0139\n",
      "k =  3, error = 0.0069\n",
      "k =  5, error = 0.0069\n",
      "k =  9, error = 0.0069\n",
      "k = 17, error = 0.0069\n",
      "k = 33, error = 0.0208\n"
     ]
    }
   ],
   "source": [
    "ks = [1,3,5,9,17,33]\n",
    "for k in ks:\n",
    "    print(\"k = {:2d}, error = {:5.4f}\".format(k, two_digit_error(3, 9, k)))"
   ]
  },
  {
   "cell_type": "markdown",
   "metadata": {},
   "source": [
    "## 3 Cross-validation"
   ]
  },
  {
   "cell_type": "code",
   "execution_count": 81,
   "metadata": {},
   "outputs": [
    {
     "name": "stdout",
     "output_type": "stream",
     "text": [
      "[[0 1 2]\n",
      " [3 4 5]]\n"
     ]
    },
    {
     "data": {
      "text/plain": [
       "array([[False,  True,  True],\n",
       "       [False, False, False]], dtype=bool)"
      ]
     },
     "execution_count": 81,
     "metadata": {},
     "output_type": "execute_result"
    }
   ],
   "source": [
    "a = np.arange(6).reshape(2,3)\n",
    "print(a)\n",
    "a[[[0,1],[0,2]]]\n",
    "(a==1) | (a== 2)"
   ]
  },
  {
   "cell_type": "code",
   "execution_count": null,
   "metadata": {
    "collapsed": true
   },
   "outputs": [],
   "source": []
  }
 ],
 "metadata": {
  "kernelspec": {
   "display_name": "Python 3",
   "language": "python",
   "name": "python3"
  },
  "language_info": {
   "codemirror_mode": {
    "name": "ipython",
    "version": 3
   },
   "file_extension": ".py",
   "mimetype": "text/x-python",
   "name": "python",
   "nbconvert_exporter": "python",
   "pygments_lexer": "ipython3",
   "version": "3.6.1"
  }
 },
 "nbformat": 4,
 "nbformat_minor": 2
}
