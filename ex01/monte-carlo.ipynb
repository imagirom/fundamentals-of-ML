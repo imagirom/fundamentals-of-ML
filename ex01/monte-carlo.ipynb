{
 "cells": [
  {
   "cell_type": "markdown",
   "metadata": {},
   "source": [
    "## 1 Monte-Carlo Simulation"
   ]
  },
  {
   "cell_type": "code",
   "execution_count": 2,
   "metadata": {
    "collapsed": true
   },
   "outputs": [],
   "source": [
    "import numpy as np\n",
    "from matplotlib import pyplot as plt"
   ]
  },
  {
   "cell_type": "markdown",
   "metadata": {},
   "source": [
    "### 1.1 Data Creation and Visualization "
   ]
  },
  {
   "cell_type": "code",
   "execution_count": 2,
   "metadata": {
    "collapsed": true
   },
   "outputs": [],
   "source": [
    "def create_data(N, y=None):\n",
    "    if not(y is not None):\n",
    "        y = np.random.randint(2, size=N)\n",
    "    u = np.random.rand(N)\n",
    "    x = y * np.sqrt(u) + (1-y) * (1-np.sqrt(-u + 1))\n",
    "    return x, y"
   ]
  },
  {
   "cell_type": "code",
   "execution_count": 3,
   "metadata": {},
   "outputs": [
    {
     "data": {
      "image/png": "[encoded data removed]",
      "text/plain": [
       "<matplotlib.figure.Figure at 0xf56d9a96d8>"
      ]
     },
     "metadata": {},
     "output_type": "display_data"
    }
   ],
   "source": [
    "N = 10000\n",
    "features, labels = create_data(N)\n",
    "\n",
    "features0 = features[labels==0]\n",
    "features1 = features[labels==1]\n",
    "\n",
    "fig = plt.figure(figsize=(9,3))\n",
    "\n",
    "# histogram for Y = 0\n",
    "ax = fig.add_subplot(121)\n",
    "ax.hist(features0, 20, normed=1, range=[0,1], ec='k')\n",
    "ax.plot([0,1], [2,0], color='k', linestyle='-', linewidth=2)\n",
    "ax.set_xlabel('x')\n",
    "ax.set_ylabel('Probability')\n",
    "ax.set_title('Y = 0')\n",
    "\n",
    "# histogram for Y = 1\n",
    "ax = fig.add_subplot(122)\n",
    "ax.hist(features1, 20, normed=1, range=[0,1], ec='k')\n",
    "ax.plot([0,1], [0,2], color='k', linestyle='-', linewidth=2)\n",
    "ax.set_xlabel('x')\n",
    "ax.set_ylabel('Probability')\n",
    "ax.set_title('Y = 1')\n",
    "plt.show()"
   ]
  },
  {
   "cell_type": "markdown",
   "metadata": {},
   "source": [
    "### 1.2 Classification by Thresholding"
   ]
  },
  {
   "cell_type": "code",
   "execution_count": 4,
   "metadata": {
    "collapsed": true
   },
   "outputs": [],
   "source": [
    "# computes the error and its standard derivation for a certain prediction rule.\n",
    "# M is the dataset size, N is the number of repetitions\n",
    "def rule_error(rule, M, N=10):\n",
    "    features, labels = create_data(M*N)\n",
    "    predictions = rule(features)\n",
    "    errors = np.average((predictions!=labels).reshape(M,N), axis=0)\n",
    "    return np.average(errors), np.std(errors)\n",
    "\n",
    "def rule_A(t, features):\n",
    "    return (features > t).astype(np.int32)\n",
    "\n",
    "def rule_B(t, features):\n",
    "    return (features <= t).astype(np.int32)\n",
    "    \n",
    "def theoretical_error_A(t):\n",
    "    return .25 + (t - .5)**2\n",
    "\n",
    "def theoretical_error_B(t):\n",
    "    return .75 - (t - .5)**2"
   ]
  },
  {
   "cell_type": "code",
   "execution_count": 5,
   "metadata": {},
   "outputs": [
    {
     "name": "stdout",
     "output_type": "stream",
     "text": [
      "---------------------Rule A---------------------\n",
      "theoretical errors:\n",
      "t = 0.2, error = 0.3400\n",
      "t = 0.5, error = 0.2500\n",
      "t = 0.6, error = 0.2600\n",
      "\n",
      "monte carlo errors:\n",
      "M =    10, t = 0.2, error = 0.2600, STD = 0.1855\n",
      "M =    10, t = 0.5, error = 0.3100, STD = 0.1044\n",
      "M =    10, t = 0.6, error = 0.3000, STD = 0.1095\n",
      "M =   100, t = 0.2, error = 0.3220, STD = 0.0357\n",
      "M =   100, t = 0.5, error = 0.2430, STD = 0.0531\n",
      "M =   100, t = 0.6, error = 0.2330, STD = 0.0395\n",
      "M =  1000, t = 0.2, error = 0.3450, STD = 0.0108\n",
      "M =  1000, t = 0.5, error = 0.2489, STD = 0.0117\n",
      "M =  1000, t = 0.6, error = 0.2580, STD = 0.0187\n",
      "M = 10000, t = 0.2, error = 0.3405, STD = 0.0054\n",
      "M = 10000, t = 0.5, error = 0.2504, STD = 0.0038\n",
      "M = 10000, t = 0.6, error = 0.2580, STD = 0.0029\n",
      "\n",
      "\n",
      "---------------------Rule B---------------------\n",
      "theoretical errors:\n",
      "t = 0.2, error = 0.6600\n",
      "t = 0.5, error = 0.7500\n",
      "t = 0.6, error = 0.7400\n",
      "\n",
      "monte carlo errors:\n",
      "M =    10, t = 0.2, error = 0.6500, STD = 0.1565\n",
      "M =    10, t = 0.5, error = 0.7800, STD = 0.1400\n",
      "M =    10, t = 0.6, error = 0.6500, STD = 0.1628\n",
      "M =   100, t = 0.2, error = 0.6390, STD = 0.0656\n",
      "M =   100, t = 0.5, error = 0.7800, STD = 0.0653\n",
      "M =   100, t = 0.6, error = 0.7520, STD = 0.0464\n",
      "M =  1000, t = 0.2, error = 0.6677, STD = 0.0165\n",
      "M =  1000, t = 0.5, error = 0.7509, STD = 0.0110\n",
      "M =  1000, t = 0.6, error = 0.7424, STD = 0.0073\n",
      "M = 10000, t = 0.2, error = 0.6612, STD = 0.0031\n",
      "M = 10000, t = 0.5, error = 0.7521, STD = 0.0031\n",
      "M = 10000, t = 0.6, error = 0.7377, STD = 0.0044\n",
      "\n",
      "\n"
     ]
    }
   ],
   "source": [
    "ts = [0.2, 0.5, 0.6]\n",
    "Ms = [10, 100, 1000, 10000]\n",
    "N = 10\n",
    "rules = [rule_A, rule_B]\n",
    "\n",
    "for rule in rules:\n",
    "    if rule == rule_A:\n",
    "        print(\"---------------------Rule A---------------------\")\n",
    "    else:\n",
    "        print(\"---------------------Rule B---------------------\")\n",
    "    \n",
    "    print(\"theoretical errors:\")\n",
    "    for t in ts:\n",
    "        if rule == rule_A:\n",
    "            print(\"t = {:2.1f}, error = {:5.4f}\".format(t, theoretical_error_A(t)))\n",
    "        else:\n",
    "            print(\"t = {:2.1f}, error = {:5.4f}\".format(t, theoretical_error_B(t)))\n",
    "    print()\n",
    "    print(\"monte carlo errors:\")\n",
    "    \n",
    "    for M in Ms:\n",
    "        for t in ts:\n",
    "            error, std = rule_error(lambda x: rule(t, x), M, 10)\n",
    "            print(\"M = {:5d}, t = {:2.1f}, error = {:5.4f}, STD = {:4.4f}\".format(M, t, error, std))\n",
    "    print()\n",
    "    print()           "
   ]
  },
  {
   "cell_type": "markdown",
   "metadata": {},
   "source": [
    "### 1.3 Nearest Neighbor Classification"
   ]
  },
  {
   "cell_type": "code",
   "execution_count": 23,
   "metadata": {
    "collapsed": true
   },
   "outputs": [],
   "source": [
    "def rule_NN(train_features, train_labels, features):\n",
    "    N = len(features)\n",
    "    n = len(train_features) # two in our case\n",
    "    closest_train = (abs(np.tile(features, n) - np.repeat(train_features, N))).reshape(n,N).argmin(0) #numpy magic\n",
    "    return train_labels[closest_train]"
   ]
  },
  {
   "cell_type": "code",
   "execution_count": 24,
   "metadata": {},
   "outputs": [
    {
     "name": "stdout",
     "output_type": "stream",
     "text": [
      "average nearest neighbour error = 0.3524, std = 0.1703\n",
      "average individual error std = 0.0104\n"
     ]
    }
   ],
   "source": [
    "M = 100 #number of training sets\n",
    "N = 1000 #size of test sets\n",
    "\n",
    "errors = np.empty(M, dtype=np.float32)\n",
    "stds = np.empty(M, dtype=np.float32)\n",
    "\n",
    "for i in range(M): \n",
    "    train_features, train_labels = create_data(2, np.array([0,1]))\n",
    "    errors[i], stds = rule_error(lambda x: rule_NN(train_features, train_labels, x), N)\n",
    "\n",
    "print (\"average nearest neighbour error = {:5.4f}, std = {:5.4f}\".format(np.average(errors), np.std(errors)))\n",
    "print (\"average individual error std = {:5.4f}\".format(np.average(stds)))"
   ]
  },
  {
   "cell_type": "code",
   "execution_count": 11,
   "metadata": {},
   "outputs": [
    {
     "data": {
      "text/plain": [
       "array([0, 1, 1, 1], dtype=int8)"
      ]
     },
     "execution_count": 11,
     "metadata": {},
     "output_type": "execute_result"
    }
   ],
   "source": [
    "a = np.array([1,2,2,3])\n",
    "(a >= 2).astype(np.int8)"
   ]
  },
  {
   "cell_type": "code",
   "execution_count": 12,
   "metadata": {},
   "outputs": [
    {
     "data": {
      "text/plain": [
       "array([[0, 1, 2],\n",
       "       [3, 4, 5]])"
      ]
     },
     "execution_count": 12,
     "metadata": {},
     "output_type": "execute_result"
    }
   ],
   "source": [
    "b = np.arange(6).reshape(2,3)\n",
    "b"
   ]
  },
  {
   "cell_type": "code",
   "execution_count": 15,
   "metadata": {},
   "outputs": [
    {
     "data": {
      "text/plain": [
       "array([ 1.,  4.])"
      ]
     },
     "execution_count": 15,
     "metadata": {},
     "output_type": "execute_result"
    }
   ],
   "source": [
    "np.average(b, axis=1)"
   ]
  },
  {
   "cell_type": "code",
   "execution_count": null,
   "metadata": {
    "collapsed": true
   },
   "outputs": [],
   "source": []
  }
 ],
 "metadata": {
  "kernelspec": {
   "display_name": "Python 3",
   "language": "python",
   "name": "python3"
  },
  "language_info": {
   "codemirror_mode": {
    "name": "ipython",
    "version": 3
   },
   "file_extension": ".py",
   "mimetype": "text/x-python",
   "name": "python",
   "nbconvert_exporter": "python",
   "pygments_lexer": "ipython3",
   "version": "3.6.1"
  }
 },
 "nbformat": 4,
 "nbformat_minor": 2
}
