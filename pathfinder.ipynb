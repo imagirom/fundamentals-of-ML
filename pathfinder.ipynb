{
 "cells": [
  {
   "cell_type": "code",
   "execution_count": 150,
   "metadata": {
    "collapsed": true
   },
   "outputs": [],
   "source": [
    "import numpy as np"
   ]
  },
  {
   "cell_type": "code",
   "execution_count": 151,
   "metadata": {
    "collapsed": true
   },
   "outputs": [],
   "source": [
    "graph = {'Ar': ['Ze','Si','Ti'],\n",
    "        'Ze': ['Or', 'Ar'],\n",
    "        'Or': ['Ze','Si'],\n",
    "        'Si': ['Ri','Fa','Ar','Or'],\n",
    "        'Fa': ['Bu','Si'],\n",
    "        'Ri': ['Pi','Si','Cr'],\n",
    "        'Pi': ['Ri','Cr','Bu'],\n",
    "        'Cr': ['Ri','Pi','Dr'],\n",
    "        'Dr': ['Cr','Me'],\n",
    "        'Me': ['Dr','Lu'],\n",
    "        'Lu': ['Me','Ti'],\n",
    "        'Ti': ['Ar','Lu']}\n",
    "costs_dic = {'ArZe':75,'ArSi':140,'ArTi':118,'ZeOr':71,'OrSi':151,'SiRi':80,\n",
    "             'SiFa':99,'FaBu':211,'RiPi':97,'RiCr':146,'PiCr':146,'PiBu':101,\n",
    "            'CrDr':120,'DrMe':75,'MeLu':70,'LuTi':111}"
   ]
  },
  {
   "cell_type": "code",
   "execution_count": 153,
   "metadata": {},
   "outputs": [
    {
     "name": "stdout",
     "output_type": "stream",
     "text": [
      "Cheapast way: ['Ar', 'Si', 'Ri', 'Pi', 'Bu'] with 418 km\n"
     ]
    },
    {
     "data": {
      "text/plain": [
       "([['Ar', 'Ze', 'Or', 'Si', 'Ri', 'Pi', 'Bu'],\n",
       "  ['Ar', 'Ze', 'Or', 'Si', 'Ri', 'Cr', 'Pi', 'Bu'],\n",
       "  ['Ar', 'Ze', 'Or', 'Si', 'Fa', 'Bu'],\n",
       "  ['Ar', 'Si', 'Ri', 'Pi', 'Bu'],\n",
       "  ['Ar', 'Si', 'Ri', 'Cr', 'Pi', 'Bu'],\n",
       "  ['Ar', 'Si', 'Fa', 'Bu'],\n",
       "  ['Ar', 'Ti', 'Lu', 'Me', 'Dr', 'Cr', 'Ri', 'Pi', 'Bu'],\n",
       "  ['Ar', 'Ti', 'Lu', 'Me', 'Dr', 'Cr', 'Ri', 'Si', 'Fa', 'Bu'],\n",
       "  ['Ar', 'Ti', 'Lu', 'Me', 'Dr', 'Cr', 'Pi', 'Ri', 'Si', 'Fa', 'Bu'],\n",
       "  ['Ar', 'Ti', 'Lu', 'Me', 'Dr', 'Cr', 'Pi', 'Bu']],\n",
       " [575, 770, 607, 418, 613, 450, 838, 1030, 1127, 741])"
      ]
     },
     "execution_count": 153,
     "metadata": {},
     "output_type": "execute_result"
    }
   ],
   "source": [
    "#search for any path with destination 'end' form 'start'\n",
    "def find_path(graph, start, end, path=[]):\n",
    "    path = path + [start]   \n",
    "    \n",
    "    if start == end:\n",
    "        return [path]\n",
    "    if start not in graph:\n",
    "        return [] \n",
    "    ways = []\n",
    "    for node in graph[start]:\n",
    "        if node not in path:\n",
    "            newpath = find_path(graph, node, end, path)\n",
    "            for a in newpath:\n",
    "                ways.append(a)\n",
    "    return ways\n",
    "#find the corresponding cost for any way\n",
    "def find_bestcost(paths, cost_dic):\n",
    "    cost=[]\n",
    "    for way in paths:\n",
    "        single=0\n",
    "        for street in range(len(way)-1):\n",
    "            x = str(way[street])+str(way[street+1])\n",
    "            y = str(way[street+1])+str(way[street])\n",
    "            if x in cost_dic:\n",
    "                single=single+cost_dic[x]\n",
    "            else:\n",
    "                single=single+cost_dic[y]\n",
    "        cost.append(single)\n",
    "    for price in range(len(cost)-1):\n",
    "        if cost[price]==min(cost):\n",
    "            cheapestway=paths[price]\n",
    "            \n",
    "    print('Cheapast way:',cheapestway,'with',min(cost),'km')\n",
    "    return paths,cost\n",
    "            \n",
    "        \n",
    "a=find_path(graph,'Ar','Bu')\n",
    "find_bestcost(a, costs_dic)\n"
   ]
  },
  {
   "cell_type": "code",
   "execution_count": null,
   "metadata": {
    "collapsed": true
   },
   "outputs": [],
   "source": []
  }
 ],
 "metadata": {
  "kernelspec": {
   "display_name": "Python 3",
   "language": "python",
   "name": "python3"
  },
  "language_info": {
   "codemirror_mode": {
    "name": "ipython",
    "version": 3
   },
   "file_extension": ".py",
   "mimetype": "text/x-python",
   "name": "python",
   "nbconvert_exporter": "python",
   "pygments_lexer": "ipython3",
   "version": "3.6.2"
  }
 },
 "nbformat": 4,
 "nbformat_minor": 2
}
