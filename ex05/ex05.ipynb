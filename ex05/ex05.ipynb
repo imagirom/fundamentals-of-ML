{
 "cells": [
  {
   "cell_type": "markdown",
   "metadata": {},
   "source": [
    "# Exercise 5"
   ]
  },
  {
   "cell_type": "markdown",
   "metadata": {},
   "source": [
    "## 1 Constructing the matrix X "
   ]
  },
  {
   "cell_type": "code",
   "execution_count": 1,
   "metadata": {
    "collapsed": true
   },
   "outputs": [],
   "source": [
    "import numpy as np\n",
    "from matplotlib import pyplot as plt\n",
    "from scipy import sparse"
   ]
  },
  {
   "cell_type": "code",
   "execution_count": 148,
   "metadata": {},
   "outputs": [],
   "source": [
    "def construct_X(M, alphas, Np = None):\n",
    "    if Np is None:\n",
    "        Np = np.ceil(np.sqrt(2) * M)\n",
    "        if Np % 2 == 0: Np += 1 # make Np odd\n",
    "    s0 = (Np - 1) / 2 #center sensor array\n",
    "    \n",
    "    #convert to radians\n",
    "    alphas = np.array(alphas, dtype=np.float32) / 180 * np.pi \n",
    "    \n",
    "    # some dimensions \n",
    "    Na = len(alphas)\n",
    "    N = Np * Na\n",
    "    D = M * M\n",
    "    \n",
    "    # array holding coordinates of the tomograms pixels\n",
    "    x, y = np.flip((np.mgrid[0:M, 0:M] - M/2 + .5).reshape(2, -1), axis=0) \n",
    "    C = np.array([x, np.flip(y, 0)]) # 2 x D\n",
    "    \n",
    "    # normals to the sensor array at different orientations\n",
    "    n = np.array([np.cos(alphas), np.sin(alphas)], dtype = np.float32) # 2 x Na\n",
    "    \n",
    "    # doing the projections\n",
    "    p = (np.dot(n.transpose(), C) + s0) # Na x D, in range(Np)\n",
    "    \n",
    "    # constructing weight and index arrays for X\n",
    "    lower_bins = np.floor(p)\n",
    "    lower_bin_weights = 1 - (p - lower_bins)\n",
    "    upper_bins = lower_bins + 1\n",
    "    upper_bin_weights = 1 - lower_bin_weights\n",
    "    \n",
    "    weights = np.concatenate((lower_bin_weights.reshape(-1), \n",
    "                              upper_bin_weights.reshape(-1))) # length: 2 * Na * D\n",
    "    \n",
    "    i_indices = np.concatenate((lower_bins.reshape(-1) + Np * np.repeat(np.arange(Na), D), \n",
    "                                upper_bins.reshape(-1) + Np * np.repeat(np.arange(Na), D))) # in range(Na*Np)\n",
    "    j_indices = np.indices(p.shape)[1].flatten()\n",
    "    j_indices = np.tile(j_indices, 2) # duplicate for upper/lower bins\n",
    "    \n",
    "    # construct X matrix\n",
    "    X = sparse.coo_matrix((weights, (i_indices, j_indices)), shape=(N, D), dtype = np.float32)\n",
    "    \n",
    "    return X"
   ]
  },
  {
   "cell_type": "code",
   "execution_count": 152,
   "metadata": {},
   "outputs": [
    {
     "data": {
      "image/png": "[encoded data removed]",
      "text/plain": [
       "<matplotlib.figure.Figure at 0x28680267898>"
      ]
     },
     "metadata": {},
     "output_type": "display_data"
    },
    {
     "data": {
      "image/png": "[encoded data removed]",
      "text/plain": [
       "<matplotlib.figure.Figure at 0x2868e034dd8>"
      ]
     },
     "metadata": {},
     "output_type": "display_data"
    },
    {
     "name": "stdout",
     "output_type": "stream",
     "text": [
      "maximum deviation from expected result: 1.341104507446289e-07\n"
     ]
    }
   ],
   "source": [
    "M = 10\n",
    "Np = 15\n",
    "alphas = [-33, 1, 42]\n",
    "\n",
    "X_test = construct_X(M, alphas)\n",
    "\n",
    "plt.imshow(X_test.toarray())\n",
    "plt.title('result')\n",
    "plt.show()\n",
    "\n",
    "X_example = np.load('hs_tomography/X_example.npy')\n",
    "plt.imshow(X_example)\n",
    "plt.title('expected result')\n",
    "plt.show()\n",
    "\n",
    "print('maximum deviation from expected result: {}'.format(np.max(X_test - X_example)))"
   ]
  },
  {
   "cell_type": "markdown",
   "metadata": {},
   "source": [
    "## 2 Recovering the image"
   ]
  },
  {
   "cell_type": "markdown",
   "metadata": {},
   "source": [
    "importing the data"
   ]
  },
  {
   "cell_type": "code",
   "execution_count": 6,
   "metadata": {
    "collapsed": true
   },
   "outputs": [],
   "source": [
    "def describe(name, a):\n",
    "    print('{}: shape: {}, dtype: {}'.format(name, a.shape, a.dtype))"
   ]
  },
  {
   "cell_type": "code",
   "execution_count": 34,
   "metadata": {},
   "outputs": [
    {
     "name": "stdout",
     "output_type": "stream",
     "text": [
      "alphas: shape: (90,), dtype: int64\n",
      "y: shape: (9810,), dtype: float32\n",
      "X_expected_dense: shape: (9810, 5929), dtype: float32\n",
      "X_example: shape: (45, 100), dtype: float32\n"
     ]
    }
   ],
   "source": [
    "alphas = np.load('hs_tomography/alphas_77.npy')\n",
    "X_expected = np.load('hs_tomography/X_77.npy').reshape(-1)[0]\n",
    "X_expected_dense = X_expected.toarray()\n",
    "y = np.load('hs_tomography/y_77.npy')\n",
    "\n",
    "describe('alphas', alphas)\n",
    "describe('y', y)\n",
    "describe('X_expected_dense', X_expected_dense)\n",
    "describe('X_example', X_example)"
   ]
  }
 ],
 "metadata": {
  "kernelspec": {
   "display_name": "Python [default]",
   "language": "python",
   "name": "python3"
  },
  "language_info": {
   "codemirror_mode": {
    "name": "ipython",
    "version": 3
   },
   "file_extension": ".py",
   "mimetype": "text/x-python",
   "name": "python",
   "nbconvert_exporter": "python",
   "pygments_lexer": "ipython3",
   "version": "3.6.3"
  }
 },
 "nbformat": 4,
 "nbformat_minor": 2
}
